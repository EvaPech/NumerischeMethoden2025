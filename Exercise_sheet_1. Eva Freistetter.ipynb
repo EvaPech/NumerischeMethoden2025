{
  "metadata": {
    "kernelspec": {
      "name": "python",
      "display_name": "Python (Pyodide)",
      "language": "python"
    },
    "language_info": {
      "codemirror_mode": {
        "name": "python",
        "version": 3
      },
      "file_extension": ".py",
      "mimetype": "text/x-python",
      "name": "python",
      "nbconvert_exporter": "python",
      "pygments_lexer": "ipython3",
      "version": "3.8"
    }
  },
  "nbformat_minor": 4,
  "nbformat": 4,
  "cells": [
    {
      "cell_type": "markdown",
      "source": "---\n---\n\n<h1><center><ins>Exercise Sheet 1</ins></center></h1>\n<h2><center>Numerical Methods <br><br> Deadline: 17 October 2024</center></h2>\n\n---\n---",
      "metadata": {}
    },
    {
      "cell_type": "markdown",
      "source": "## Exercise 1 - FizzBuzz\n\nWrite a program that prints integer numbers from 1 to 25. For multiples of 3 print `\"Fizz\"` instead of the number, and for multiples of 5 print `\"Buzz\"`.\n\n**Careful:** for multiples of 3 and 5, you should print `\"FizzBuzz\"`!",
      "metadata": {}
    },
    {
      "cell_type": "code",
      "source": "for i in range(1, 26):\n    if i % 3 == 0 and i % 5 == 0:\n        print(\"FizzBuzz\")\n    elif i % 3 == 0:\n        print(\"Fizz\")\n    elif i % 5 == 0:\n        print(\"Buzz\")\n    else:\n        print(i)\n    ",
      "metadata": {
        "trusted": true,
        "scrolled": true
      },
      "outputs": [
        {
          "name": "stdout",
          "output_type": "stream",
          "text": "1\n2\nFizz\n4\nBuzz\nFizz\n7\n8\nFizz\nBuzz\n11\nFizz\n13\n14\nFizzBuzz\n16\n17\nFizz\n19\nBuzz\nFizz\n22\n23\nFizz\nBuzz\n"
        }
      ],
      "execution_count": 13
    },
    {
      "cell_type": "markdown",
      "source": "## Exercise 2 - Leap years\n\n**(a)** Write a function that, given a year, reports if it is a [leap year](https://en.wikipedia.org/wiki/Leap_year). The tricky thing is that a leap year in the Gregorian calendar occurs:\n * on every year that is evenly divisible by 4\n * except every year that is evenly divisible by 100\n * unless the year is also evenly divisible by 400\n \nFor example, 1995 is not a leap year, but 1996 is. 1900 is not a leap year, but 2000 is.\n\n**(b)** Test your function on some selected years that allow you to check if it provides the correct solution.",
      "metadata": {}
    },
    {
      "cell_type": "code",
      "source": "def is_leap_year(year):\n    if (year % 4 == 0 and year % 100 != 0) or (year % 400 == 0):\n        return True\n    else:\n        return False\n\ntest_years = [1900, 1995, 1996, 1900, 2000, 2024, 2025, 2026, 2100, 2400]\n\nfor y in test_years:\n    if is_leap_year(y):\n        print(f\"{y} is a leap year. There is a Feb 29th in this year\")\n    else:\n        print(f\"{y} is not a leap year. There will be no Feb 29th\")",
      "metadata": {
        "trusted": true
      },
      "outputs": [
        {
          "name": "stdout",
          "output_type": "stream",
          "text": "1900 is not a leap year. There will be no Feb 29th\n1995 is not a leap year. There will be no Feb 29th\n1996 is a leap year. There is a Feb 29th in this year\n1900 is not a leap year. There will be no Feb 29th\n2000 is a leap year. There is a Feb 29th in this year\n2024 is a leap year. There is a Feb 29th in this year\n2025 is not a leap year. There will be no Feb 29th\n2026 is not a leap year. There will be no Feb 29th\n2100 is not a leap year. There will be no Feb 29th\n2400 is a leap year. There is a Feb 29th in this year\n"
        }
      ],
      "execution_count": 8
    },
    {
      "cell_type": "markdown",
      "source": "## Exercise 3 - Rigged dice\n\n**(a)** Create a rigged dice function that 25% of the time returns the number 6. The rest of the time it returns the integers 1,2,3,4,5 uniformly.\n\n**(b)** Test your function, by calling it 100k times and checking that 6 is returned in the range of 24700-25300 (inclusive) times. You do not need to check that numbers 1 to 5 are returned uniformly or randomly, but you need to check that your function returns integers in the range 1-6 (inclusive). Such a test works roughly 98% of the time, so you might want to run it twice if you are confident your solution is correct.",
      "metadata": {}
    },
    {
      "cell_type": "code",
      "source": "import random\n\ndef rigged_dice():\n    if random.random() < 0.25:  # 6 for 25% of the cases\n        return 6\n    else:\n        return random.randint(1, 5)  # 1 to 5 for the other 75% of cases\n\n\n# Test of the rigged dice\nN = 100_000  \nresults = [rigged_dice() for _ in range(N)]\n\n# How often was there a 6?\ncount_six = results.count(6)\nprint(f\"Number of 6s: {count_six}\")\n\n# 6 in range?\nif 24700 <= count_six <= 25300:\n    print(\"The rigged dice worked!\")\nelse:\n    print(\"The rigged dice failed!\")\n\n",
      "metadata": {
        "trusted": true
      },
      "outputs": [
        {
          "name": "stdout",
          "output_type": "stream",
          "text": "Number of 6s: 24803\nThe rigged dice worked!\n"
        }
      ],
      "execution_count": 12
    },
    {
      "cell_type": "markdown",
      "source": "## Exercise 4 - Find the fake coin\n\nConsider this famous puzzle: _\"You have 8 coins: all the coins have equal weight, except one. The odd one weights less than the others, not being of pure gold. In the worst case, how many iterations do you need to find the odd one out on a two plates scale?\"_\n\nWrite a function that returns the minimum amount of weighing it will take to measure `N` coins in every possible occurrence (including worst case scenario, i.e.: without relying on luck at all!). The number `N` is guaranteed to be a positive integer.\n\n**Tip:** being able to think recursively might help here!\n\n**Note:** this is clearly a logical problem, because a good coder is a master of pattern recognition and subsequent optimization! ;)",
      "metadata": {}
    },
    {
      "cell_type": "code",
      "source": "# Optimale Stratgie\n# Gegeben: N Münzen\n# Waage kann 3 unterschiedliche Ergebnisse liefern\n# 1) Gleichgewicht 2) Rechts leichter 3) links leichter\n# --> Münzen in 3 Gruppen teilen, von denen 2 Gruppen gleich viele Münzen enthalten und die dritte den Rest\n# --> Anzahl der Münzen in den drei Gruppen ist zweimal N/3 (aufgerundet, ⌈N/3⌉ ) und einmal N/3 (abgerundet ⌊N/3⌋)\n# --> gleich große Gruppen wiegen. \n# Daraus folgt eindeutig, in welcher Gruppe die Münze ist. \n# Mit dieser Gruppe wird der Vorgang (Dritteln, wiegen) wiederholt, bis am Ende nur noch eine Münze übrig bleibt\n#\n# Mit dieser Methode wird die Anzahl der Münzen bei jeder Wiegung um (circa) ein Drittel verkleinert\n# Nach jeder Wiegung bleiben maximal ⌈N/3⌉ Münzen übrig      \n# Gesucht ist die Anzahl w der Wiegungen, die bei N Münzen durchgeführt werden müssen, bis N=1\n# Mathematisch: Wie lange dauert es, bis die Folge: N, ⌈N/3⌉, ⌈⌈N/3⌉/3⌉, ... auf 1 gefallen ist? (sind auf jeden Fall endlich viele Schritte) \n# Anders formuliert: Gesucht ist w mit 3^w ≥ N \n# Lösung: w=⌈log_3 N⌉ oder mit Basiswechsel: w= ⌈log_10 N / log_10 3⌈\n# \n# --> nach rekursiven Denken ist kein rekursives Programmieren mehr nötig, die Funktion kann direkt formuliert werden\n\nimport math\n\ndef min_weigh(N:int) -> int:\n\treturn math.ceil(math.log(N,3))\n\n#Test\nfor i in range(1, 50):\n    print (\"Anzahl Münzen:\", i, \"-->\" \"Anzahl Wiegungen:\", min_weigh(i))",
      "metadata": {
        "trusted": true
      },
      "outputs": [
        {
          "name": "stdout",
          "output_type": "stream",
          "text": "Anzahl Münzen: 1 -->Anzahl Wiegungen: 0\nAnzahl Münzen: 2 -->Anzahl Wiegungen: 1\nAnzahl Münzen: 3 -->Anzahl Wiegungen: 1\nAnzahl Münzen: 4 -->Anzahl Wiegungen: 2\nAnzahl Münzen: 5 -->Anzahl Wiegungen: 2\nAnzahl Münzen: 6 -->Anzahl Wiegungen: 2\nAnzahl Münzen: 7 -->Anzahl Wiegungen: 2\nAnzahl Münzen: 8 -->Anzahl Wiegungen: 2\nAnzahl Münzen: 9 -->Anzahl Wiegungen: 2\nAnzahl Münzen: 10 -->Anzahl Wiegungen: 3\nAnzahl Münzen: 11 -->Anzahl Wiegungen: 3\nAnzahl Münzen: 12 -->Anzahl Wiegungen: 3\nAnzahl Münzen: 13 -->Anzahl Wiegungen: 3\nAnzahl Münzen: 14 -->Anzahl Wiegungen: 3\nAnzahl Münzen: 15 -->Anzahl Wiegungen: 3\nAnzahl Münzen: 16 -->Anzahl Wiegungen: 3\nAnzahl Münzen: 17 -->Anzahl Wiegungen: 3\nAnzahl Münzen: 18 -->Anzahl Wiegungen: 3\nAnzahl Münzen: 19 -->Anzahl Wiegungen: 3\nAnzahl Münzen: 20 -->Anzahl Wiegungen: 3\nAnzahl Münzen: 21 -->Anzahl Wiegungen: 3\nAnzahl Münzen: 22 -->Anzahl Wiegungen: 3\nAnzahl Münzen: 23 -->Anzahl Wiegungen: 3\nAnzahl Münzen: 24 -->Anzahl Wiegungen: 3\nAnzahl Münzen: 25 -->Anzahl Wiegungen: 3\nAnzahl Münzen: 26 -->Anzahl Wiegungen: 3\nAnzahl Münzen: 27 -->Anzahl Wiegungen: 3\nAnzahl Münzen: 28 -->Anzahl Wiegungen: 4\nAnzahl Münzen: 29 -->Anzahl Wiegungen: 4\nAnzahl Münzen: 30 -->Anzahl Wiegungen: 4\nAnzahl Münzen: 31 -->Anzahl Wiegungen: 4\nAnzahl Münzen: 32 -->Anzahl Wiegungen: 4\nAnzahl Münzen: 33 -->Anzahl Wiegungen: 4\nAnzahl Münzen: 34 -->Anzahl Wiegungen: 4\nAnzahl Münzen: 35 -->Anzahl Wiegungen: 4\nAnzahl Münzen: 36 -->Anzahl Wiegungen: 4\nAnzahl Münzen: 37 -->Anzahl Wiegungen: 4\nAnzahl Münzen: 38 -->Anzahl Wiegungen: 4\nAnzahl Münzen: 39 -->Anzahl Wiegungen: 4\nAnzahl Münzen: 40 -->Anzahl Wiegungen: 4\nAnzahl Münzen: 41 -->Anzahl Wiegungen: 4\nAnzahl Münzen: 42 -->Anzahl Wiegungen: 4\nAnzahl Münzen: 43 -->Anzahl Wiegungen: 4\nAnzahl Münzen: 44 -->Anzahl Wiegungen: 4\nAnzahl Münzen: 45 -->Anzahl Wiegungen: 4\nAnzahl Münzen: 46 -->Anzahl Wiegungen: 4\nAnzahl Münzen: 47 -->Anzahl Wiegungen: 4\nAnzahl Münzen: 48 -->Anzahl Wiegungen: 4\nAnzahl Münzen: 49 -->Anzahl Wiegungen: 4\n"
        }
      ],
      "execution_count": 31
    },
    {
      "cell_type": "markdown",
      "source": "## [Optional Exercise] - Syntax debug and a challenge\n\nWhile programming a video game, your friend Elliot decided to create a function to check if the user is still alive, called `check_alive`. Unfortunately, Elliot made some errors while creating the function. The function `check_alive` should return a _boolean_, which has true value if the player's health is greater than 0 and false value if it is 0 or below. The function receives one parameter, `health`, which will always be a whole number between `-10` and `10`.\n\n**(a)** Fix the function by correcting Elliot's mistakes.\n\n**(b)** Write a test to make sure that after your changes the function indeed does what it should. \n\n_CAREFUL: you cannot use the same condition in the function and in the test! You need to define another condition to check whether your function works as it should!_\n\n**(c)** When you are satisfied with your solution, take another look at your function: can you simplify it further by making it shorter?",
      "metadata": {}
    },
    {
      "cell_type": "code",
      "source": "# Elliot's implementation\n\ndef check_alive(health):\n    if():\n        health < 0\n        return false\n    else\n        return true",
      "metadata": {},
      "outputs": [],
      "execution_count": null
    },
    {
      "cell_type": "code",
      "source": "# Formale Fehler im Code\n#\n# \"false\" und \"true\" muss man in Python \"False\" und \"True\" schreiben\n# \"health < 0\" muss bei \"if()\" stehen (und if() kann nicht ohne Argument aufgerufen werden)\n# bei \"else\" fehlt der Doppelpunkt\n#\n# Formale korrekte Version des Codes:\ndef check_alive_v1(health):\n    if(health < 0):\n        return False\n    else:\n        return True\n\n# Logischer Fehler im Code\n#\n# Wenn die Funktion checken soll, ob jemand lebendig ist, dann sollte sie \"True\" liefern, wenn health > 0 ist und \"False\", wenn health = 0\n# health < 0 macht keinen Sinn (es sei denn es gibt in dem Spiel irgendwelche untoten Zombies...)\n#\n# Formal und logisch korrekte Version des Codes:\ndef check_alive_v2(health):\n    if(health > 0):\n        return True\n    else:\n        return False\n\n# Einfachere Vesion\n#\n# Die if/else Verzweigung ist unnötig. Wenn man den Ausdruck \"health > 0\" bildet, ist der automatisch \"True\" oder \"False\", je nach Wert von health\n#\n# Simple Version des Codes\n\ndef check_alive(health):\n    return health > 0\n\n# Test der Funktion",
      "metadata": {
        "trusted": true
      },
      "outputs": [],
      "execution_count": 34
    },
    {
      "cell_type": "code",
      "source": "",
      "metadata": {
        "trusted": true
      },
      "outputs": [],
      "execution_count": null
    }
  ]
}